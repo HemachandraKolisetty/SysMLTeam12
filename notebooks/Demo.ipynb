{
 "cells": [
  {
   "cell_type": "code",
   "execution_count": 20,
   "metadata": {},
   "outputs": [],
   "source": [
    "import numpy as np\n",
    "import time"
   ]
  },
  {
   "attachments": {},
   "cell_type": "markdown",
   "metadata": {},
   "source": [
    "### Load Profiled Data"
   ]
  },
  {
   "cell_type": "code",
   "execution_count": 21,
   "metadata": {},
   "outputs": [],
   "source": [
    "entropies = [0.0, 0.001, 0.005, 0.01, 0.05, 0.1, 0.15, 0.2, 0.3, 0.4, 0.5, 0.6, 0.7]\n",
    "\n",
    "data_pl = {} # e -> [exit_layer_count, eval_time, actual_cost/full_cost, accuracy]\n",
    "for e in entropies:\n",
    "    data_pl[e] = np.load('./../plotting2/saved_models/bert_base-SST-2-two_stage/entropy_{}.npy'.format(e), allow_pickle=True)"
   ]
  },
  {
   "attachments": {},
   "cell_type": "markdown",
   "metadata": {},
   "source": [
    "Bucket Accuracy"
   ]
  },
  {
   "cell_type": "code",
   "execution_count": 22,
   "metadata": {},
   "outputs": [
    {
     "name": "stdout",
     "output_type": "stream",
     "text": [
      "TUPLE - (Latency, Exit Layer Index, Entropy, Number of samples at that exit layer)\n",
      "accuracy - 90 Bucket - [(21, 1, 0.5, 107), (32, 2, 0.3, 299), (35, 2, 0.2, 200), (48, 3, 0.05, 54), (92, 6, 0.15, 102), (96, 6, 0.2, 96), (99, 6, 0.05, 89), (102, 7, 0.001, 13), (111, 7, 0.15, 114), (111, 7, 0.3, 89), (120, 8, 0.15, 104), (123, 8, 0.1, 138), (128, 8, 0.2, 82), (177, 12, 0.0, 872)]\n",
      "accuracy - 100 Bucket - [(30, 2, 0.01, 8), (32, 2, 0.001, 2), (35, 2, 0.005, 2), (37, 2, 0.05, 54), (47, 3, 0.005, 9), (47, 3, 0.01, 15), (62, 4, 0.005, 23), (65, 4, 0.05, 60), (72, 4, 0.001, 3), (74, 5, 0.005, 9), (78, 5, 0.1, 33), (79, 5, 0.01, 12), (80, 5, 0.001, 7), (80, 5, 0.05, 23), (99, 6, 0.001, 32), (105, 7, 0.005, 46), (119, 8, 0.6, 5), (128, 9, 0.6, 2), (154, 11, 0.15, 2), (156, 11, 0.3, 2), (158, 11, 0.4, 1), (159, 11, 0.001, 15), (175, 11, 0.1, 8), (219, 12, 0.5, 1)]\n",
      "accuracy - 85 Bucket - [(16, 1, 0.6, 271), (32, 2, 0.4, 385), (34, 2, 0.5, 421), (47, 3, 0.3, 111), (50, 3, 0.4, 98), (61, 4, 0.15, 90), (64, 4, 0.1, 69), (67, 4, 0.2, 91), (79, 5, 0.3, 50), (87, 5, 0.2, 44), (91, 6, 0.5, 51), (95, 6, 0.4, 58), (95, 6, 0.6, 22), (102, 6, 0.3, 80), (102, 7, 0.4, 69), (113, 7, 0.2, 114), (113, 7, 0.6, 17), (120, 8, 0.4, 39), (122, 8, 0.3, 60), (144, 10, 0.01, 54), (147, 9, 0.05, 170), (157, 11, 0.01, 33), (175, 12, 0.001, 456), (179, 11, 0.05, 9)]\n",
      "accuracy - 95 Bucket - [(16, 1, 0.4, 40), (31, 2, 0.1, 109), (31, 2, 0.15, 157), (47, 3, 0.1, 75), (49, 3, 0.15, 86), (49, 3, 0.2, 97), (62, 4, 0.01, 32), (77, 5, 0.15, 39), (90, 6, 0.005, 60), (95, 6, 0.1, 102), (96, 6, 0.01, 71), (107, 7, 0.01, 75), (110, 7, 0.05, 108), (111, 7, 0.1, 118), (118, 8, 0.01, 187), (120, 8, 0.001, 151), (120, 8, 0.005, 185), (127, 8, 0.05, 164), (132, 9, 0.005, 212), (133, 9, 0.01, 201), (137, 9, 0.001, 156), (143, 10, 0.001, 37), (144, 10, 0.005, 66)]\n",
      "accuracy - 75 Bucket - [(34, 2, 0.6, 385), (53, 3, 0.5, 103), (131, 9, 0.4, 40), (149, 10, 0.1, 40), (150, 10, 0.4, 9), (162, 10, 0.2, 18), (170, 12, 0.005, 236)]\n",
      "accuracy - 80 Bucket - [(17, 1, 0.3, 6), (63, 4, 0.4, 84), (64, 4, 0.3, 87), (105, 7, 0.5, 50), (123, 8, 0.5, 25), (129, 9, 0.5, 15), (135, 9, 0.3, 62), (138, 9, 0.15, 108), (141, 9, 0.1, 122), (147, 10, 0.15, 28), (148, 9, 0.2, 92), (154, 11, 0.005, 24), (159, 10, 0.05, 45), (169, 10, 0.3, 10)]\n",
      "accuracy - 70 Bucket - [(16, 1, 0.7, 872), (46, 3, 0.6, 87), (77, 5, 0.5, 30), (80, 5, 0.4, 41), (175, 12, 0.01, 184)]\n",
      "accuracy - 65 Bucket - [(20, 1, 0.2, 3), (62, 4, 0.5, 63), (140, 10, 0.5, 6), (179, 11, 0.2, 3), (189, 12, 0.05, 96)]\n",
      "accuracy - 60 Bucket - [(60, 4, 0.6, 60), (187, 12, 0.1, 58)]\n"
     ]
    }
   ],
   "source": [
    "acc_buckets = {} # for acc in range(60, 100, 5):\n",
    "min_exit_samples = 0 # N/k\n",
    "\n",
    "for e in entropies:\n",
    "    for exit_layer in data_pl[e][3]:\n",
    "        acc = int(data_pl[e][3][exit_layer] * 20) * 5\n",
    "        if acc >= 60 and data_pl[e][0][exit_layer] >= min_exit_samples:\n",
    "            if acc not in acc_buckets:\n",
    "                acc_buckets[acc] = []\n",
    "            latency = int(data_pl[e][1][exit_layer] * 1000)\n",
    "            exit_layer_count = data_pl[e][0][exit_layer]\n",
    "            acc_buckets[int(acc/5)*5].append((latency, exit_layer, e, exit_layer_count))\n",
    "\n",
    "print(\"TUPLE - (Latency, Exit Layer Index, Entropy, Number of samples at that exit layer)\")\n",
    "for acc in acc_buckets:\n",
    "    print(f\"accuracy - {acc}\", f\"Bucket - {sorted(acc_buckets[acc])}\")"
   ]
  },
  {
   "attachments": {},
   "cell_type": "markdown",
   "metadata": {},
   "source": [
    "A greedy heuristic to get the entropy vector given accuracy and latency constraints"
   ]
  },
  {
   "cell_type": "code",
   "execution_count": 23,
   "metadata": {},
   "outputs": [],
   "source": [
    "# Accuracy is prioritized. We acheive the highest accuracy possible within the latency budget.\n",
    "def get_entropies(targt_accuracy, target_latency):\n",
    "    entropies = [(0, 0, 10)] * 12 # e, acc, latency\n",
    "    for acc in acc_buckets:\n",
    "        if acc < targt_accuracy:\n",
    "            continue\n",
    "        for latency, exit_layer, e, _ in acc_buckets[acc]:\n",
    "            if latency > target_latency:\n",
    "                continue\n",
    "            if entropies[exit_layer - 1][1] < acc or (entropies[exit_layer - 1][1] == acc and entropies[exit_layer - 1][2] > latency):\n",
    "                entropies[exit_layer - 1] = (e, acc, latency)\n",
    "   \n",
    "    res = []\n",
    "    for e, _, _ in entropies:\n",
    "        res.append(e)\n",
    "    \n",
    "    for i in range(len(res) - 1, 0, -1):\n",
    "        if res[i] != 0:\n",
    "            res[i] = 1\n",
    "            break\n",
    "    return tuple(res)"
   ]
  },
  {
   "attachments": {},
   "cell_type": "markdown",
   "metadata": {},
   "source": [
    "### Simulation"
   ]
  },
  {
   "cell_type": "code",
   "execution_count": 25,
   "metadata": {},
   "outputs": [
    {
     "name": "stdout",
     "output_type": "stream",
     "text": [
      "Entropy vector for 90% acc, 150ms latency: Corresponding S vector- (0.4, 0.01, 0.005, 0.005, 0.005, 0.001, 0.005, 0.6, 0.6, 1, 0, 0)\n",
      "Entropy vector for 90% acc, 100ms latency: Corresponding S vector- (0.4, 0.01, 0.005, 0.005, 0.005, 1, 0, 0, 0, 0, 0, 0)\n",
      "Entropy vector for 90% acc, 80ms latency: Corresponding S vector- (0.4, 0.01, 0.005, 0.005, 1, 0, 0, 0, 0, 0, 0, 0)\n",
      "Entropy vector for 80% acc, 150ms latency: Corresponding S vector- (0.4, 0.01, 0.005, 0.005, 0.005, 0.001, 0.005, 0.6, 0.6, 1, 0, 0)\n",
      "Entropy vector for 80% acc, 120ms latency: Corresponding S vector- (0.4, 0.01, 0.005, 0.005, 0.005, 0.001, 0.005, 1, 0, 0, 0, 0)\n",
      "Entropy vector for 80% acc, 100ms latency: Corresponding S vector- (0.4, 0.01, 0.005, 0.005, 0.005, 1, 0, 0, 0, 0, 0, 0)\n",
      "Entropy vector for 70% acc, 120ms latency: Corresponding S vector- (0.4, 0.01, 0.005, 0.005, 0.005, 0.001, 0.005, 1, 0, 0, 0, 0)\n",
      "Entropy vector for 70% acc, 100ms latency: Corresponding S vector- (0.4, 0.01, 0.005, 0.005, 0.005, 1, 0, 0, 0, 0, 0, 0)\n",
      "Entropy vector for 70% acc, 80ms latency: Corresponding S vector- (0.4, 0.01, 0.005, 0.005, 1, 0, 0, 0, 0, 0, 0, 0)\n",
      "Entropy vector for 70% acc, 50ms latency: Corresponding S vector- (0.4, 0.01, 1, 0, 0, 0, 0, 0, 0, 0, 0, 0)\n"
     ]
    }
   ],
   "source": [
    "target_accuracies = [90, 90, 90, 80, 80, 80, 70, 70, 70, 70]\n",
    "target_latencies = [150, 100, 80, 150, 120, 100, 120, 100, 80, 50]\n",
    "sleep_times = [1, 15, 5, 1, 1, 1, 1, 1, 1, 1]\n",
    "\n",
    "for i in range(len(target_accuracies)):\n",
    "    time.sleep(sleep_times[i])\n",
    "    print(f'Entropy vector for {target_accuracies[i]}% acc, {target_latencies[i]}ms latency:', 'Corresponding S vector-',get_entropies(target_accuracies[i], target_latencies[i]))"
   ]
  },
  {
   "attachments": {},
   "cell_type": "markdown",
   "metadata": {},
   "source": [
    "### Evaluation"
   ]
  },
  {
   "cell_type": "code",
   "execution_count": 12,
   "metadata": {},
   "outputs": [],
   "source": [
    "def compute_overall_accuracy_latency(data_accLat):\n",
    "    total = 0\n",
    "    acc = 0\n",
    "    latency = 0\n",
    "    for exit_layer in data_accLat[0]:\n",
    "        if exit_layer in data_accLat[3]:\n",
    "            total += data_accLat[0][exit_layer]\n",
    "            acc += data_accLat[0][exit_layer] * data_accLat[3][exit_layer]\n",
    "            latency += data_accLat[0][exit_layer] * data_accLat[1][exit_layer]\n",
    "    return acc/total, latency/total"
   ]
  },
  {
   "cell_type": "code",
   "execution_count": 13,
   "metadata": {},
   "outputs": [
    {
     "name": "stdout",
     "output_type": "stream",
     "text": [
      "Target Accuracy: 90%, Target Latency: 150ms \n",
      "Achieved Accuracy: 89%, Average Latency: 78ms\n"
     ]
    }
   ],
   "source": [
    "data_accLat_90_150 = np.load('./../plotting2/saved_models/bert_base-SST-2-two_stage/accLat_{}_{}.npy'.format(90, 150), allow_pickle=True)\n",
    "\n",
    "acc, latency = compute_overall_accuracy_latency(data_accLat_90_150)\n",
    "print(\"Target Accuracy: 90%, Target Latency: 150ms \")\n",
    "print(f\"Achieved Accuracy: {round(acc*100)}%, Average Latency: {round(latency * 1000)}ms\")"
   ]
  },
  {
   "cell_type": "code",
   "execution_count": 14,
   "metadata": {},
   "outputs": [
    {
     "name": "stdout",
     "output_type": "stream",
     "text": [
      "Target Accuracy: 80%, Target Latency: 120ms \n",
      "Achieved Accuracy: 88%, Average Latency: 90ms\n"
     ]
    }
   ],
   "source": [
    "data_accLat_80_120 = np.load('./../plotting2/saved_models/bert_base-SST-2-two_stage/accLat_{}_{}.npy'.format(80, 120), allow_pickle=True)\n",
    "\n",
    "acc, latency = compute_overall_accuracy_latency(data_accLat_80_120)\n",
    "print(\"Target Accuracy: 80%, Target Latency: 120ms \")\n",
    "print(f\"Achieved Accuracy: {round(acc*100)}%, Average Latency: {round(latency * 1000)}ms\")"
   ]
  },
  {
   "cell_type": "code",
   "execution_count": 15,
   "metadata": {},
   "outputs": [
    {
     "name": "stdout",
     "output_type": "stream",
     "text": [
      "Target Accuracy: 75%, Target Latency: 100ms \n",
      "Achieved Accuracy: 85%, Average Latency: 70ms\n"
     ]
    }
   ],
   "source": [
    "data_accLat_75_100 = np.load('./../plotting2/saved_models/bert_base-SST-2-two_stage/accLat_{}_{}.npy'.format(75, 100), allow_pickle=True)\n",
    "acc, latency = compute_overall_accuracy_latency(data_accLat_75_100)\n",
    "print(\"Target Accuracy: 75%, Target Latency: 100ms \")\n",
    "print(f\"Achieved Accuracy: {round(acc*100)}%, Average Latency: {round(latency * 1000)}ms\")"
   ]
  },
  {
   "cell_type": "markdown",
   "metadata": {},
   "source": [
    "| Target Accuracy | Target Latency | Entropy Vector | Achieved Accuracy| Achieved Latency\n",
    "|-----------------|----------------|----------------|--------------------|---------------|\n",
    "|90|11|(0.4, 0.01, 0.005, 0.005, 0.005, 0.001, 0.005, 0.6, 0.6, 1, 0, 0)|90|11|\n",
    "|90|6|(0.4, 0.01, 0.005, 0.005, 0.005, 1, 0, 0, 0, 0, 0, 0)|84|6|\n",
    "|90|4|(0.4, 0.01, 0.005, 0.005, 1, 0, 0, 0, 0, 0, 0, 0)|78|1|\n",
    "|80|11|(0.4, 0.01, 0.005, 0.005, 0.005, 0.001, 0.005, 0.6, 0.6, 1, 0, 0)|90|11|\n",
    "|80|8|(0.4, 0.01, 0.005, 0.005, 0.005, 0.001, 0.005, 1, 0, 0, 0, 0)|88|8.5|\n",
    "|80|6|(0.4, 0.01, 0.005, 0.005, 0.005, 1, 0, 0, 0, 0, 0, 0)|84|6|\n",
    "|70|8|(0.4, 0.01, 0.005, 0.005, 0.005, 0.001, 0.005, 1, 0, 0, 0, 0)|88|8.5|\n",
    "|70|6|(0.4, 0.01, 0.005, 0.005, 0.005, 1, 0, 0, 0, 0, 0, 0)|84|6|\n",
    "|70|4|(0.4, 0.01, 0.005, 0.005, 1, 0, 0, 0, 0, 0, 0, 0)|70|3.5|\n",
    "|70|1|(0.4, 0.01, 1, 0, 0, 0, 0, 0, 0, 0, 0, 0)|78|1|\n"
   ]
  }
 ],
 "metadata": {
  "kernelspec": {
   "display_name": "deebert-gpu",
   "language": "python",
   "name": "python3"
  },
  "language_info": {
   "codemirror_mode": {
    "name": "ipython",
    "version": 3
   },
   "file_extension": ".py",
   "mimetype": "text/x-python",
   "name": "python",
   "nbconvert_exporter": "python",
   "pygments_lexer": "ipython3",
   "version": "3.8.20"
  },
  "orig_nbformat": 4
 },
 "nbformat": 4,
 "nbformat_minor": 2
}
