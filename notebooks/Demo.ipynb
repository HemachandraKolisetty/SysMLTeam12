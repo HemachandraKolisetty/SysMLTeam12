{
 "cells": [
  {
   "cell_type": "code",
   "execution_count": 1,
   "metadata": {},
   "outputs": [],
   "source": [
    "import numpy as np\n",
    "import time"
   ]
  },
  {
   "attachments": {},
   "cell_type": "markdown",
   "metadata": {},
   "source": [
    "### Load Profiled Data"
   ]
  },
  {
   "cell_type": "code",
   "execution_count": 4,
   "metadata": {},
   "outputs": [],
   "source": [
    "entropies = [0.0, 0.001, 0.005, 0.01, 0.05, 0.1, 0.15, 0.2, 0.3, 0.4, 0.5, 0.6, 0.7]\n",
    "\n",
    "data_pl = {} # e -> [exit_layer_count, eval_time, actual_cost/full_cost, accuracy]\n",
    "for e in entropies:\n",
    "    data_pl[e] = np.load('./../plotting2/saved_models/bert_base-SST-2-two_stage/entropy_{}.npy'.format(e), allow_pickle=True)"
   ]
  },
  {
   "attachments": {},
   "cell_type": "markdown",
   "metadata": {},
   "source": [
    "Bucket Accuracy"
   ]
  },
  {
   "cell_type": "code",
   "execution_count": 5,
   "metadata": {},
   "outputs": [],
   "source": [
    "acc_buckets = {} # for acc in range(60, 100, 5):\n",
    "min_exit_samples = 0 # N/k\n",
    "\n",
    "for e in entropies:\n",
    "    for exit_layer in data_pl[e][3]:\n",
    "        acc = int(data_pl[e][3][exit_layer] * 20) * 5\n",
    "        if acc >= 60 and data_pl[e][0][exit_layer] >= min_exit_samples:\n",
    "            if acc not in acc_buckets:\n",
    "                acc_buckets[acc] = []\n",
    "            latency = int(data_pl[e][1][exit_layer] * 1000)\n",
    "            exit_layer_count = data_pl[e][0][exit_layer]\n",
    "            acc_buckets[int(acc/5)*5].append((latency, exit_layer, e, exit_layer_count))"
   ]
  },
  {
   "attachments": {},
   "cell_type": "markdown",
   "metadata": {},
   "source": [
    "A greedy heuristic to get the entropy vector given accuracy and latency constraints"
   ]
  },
  {
   "cell_type": "code",
   "execution_count": 6,
   "metadata": {},
   "outputs": [],
   "source": [
    "# Accuracy is prioritized. We acheive the highest accuracy possible within the latency budget.\n",
    "def get_entropies(targt_accuracy, target_latency):\n",
    "    entropies = [(0, 0, 10)] * 12 # e, acc, latency\n",
    "    for acc in acc_buckets:\n",
    "        if acc < targt_accuracy:\n",
    "            continue\n",
    "        for latency, exit_layer, e, _ in acc_buckets[acc]:\n",
    "            if latency > target_latency:\n",
    "                continue\n",
    "            if entropies[exit_layer - 1][1] < acc or (entropies[exit_layer - 1][1] == acc and entropies[exit_layer - 1][2] > latency):\n",
    "                entropies[exit_layer - 1] = (e, acc, latency)\n",
    "   \n",
    "    res = []\n",
    "    for e, _, _ in entropies:\n",
    "        res.append(e)\n",
    "    \n",
    "    for i in range(len(res) - 1, 0, -1):\n",
    "        if res[i] != 0:\n",
    "            res[i] = 1\n",
    "            break\n",
    "    return tuple(res)"
   ]
  },
  {
   "attachments": {},
   "cell_type": "markdown",
   "metadata": {},
   "source": [
    "### Simulation"
   ]
  },
  {
   "cell_type": "code",
   "execution_count": 7,
   "metadata": {},
   "outputs": [
    {
     "name": "stdout",
     "output_type": "stream",
     "text": [
      "Entropy vector for 90% acc, 150ms latency: (0.5, 0.1, 0.1, 0, 0, 0.1, 0.01, 0.01, 1, 0, 0, 0)\n",
      "Entropy vector for 90% acc, 100ms latency: (0.5, 0.1, 0.1, 0, 0, 1, 0, 0, 0, 0, 0, 0)\n",
      "Entropy vector for 90% acc, 80ms latency: (0.5, 0.1, 1, 0, 0, 0, 0, 0, 0, 0, 0, 0)\n",
      "Entropy vector for 80% acc, 150ms latency: (0.5, 0.1, 0.1, 0.15, 0, 0.1, 0.01, 0.01, 1, 0, 0, 0)\n",
      "Entropy vector for 80% acc, 120ms latency: (0.5, 0.1, 0.1, 0.15, 0, 0.1, 0.01, 1, 0, 0, 0, 0)\n",
      "Entropy vector for 80% acc, 100ms latency: (0.5, 0.1, 0.1, 0.15, 0, 1, 0, 0, 0, 0, 0, 0)\n",
      "Entropy vector for 70% acc, 120ms latency: (0.5, 0.1, 0.1, 0.15, 0, 0.1, 0.01, 1, 0, 0, 0, 0)\n",
      "Entropy vector for 70% acc, 100ms latency: (0.5, 0.1, 0.1, 0.15, 0, 1, 0, 0, 0, 0, 0, 0)\n",
      "Entropy vector for 70% acc, 80ms latency: (0.5, 0.1, 0.1, 1, 0, 0, 0, 0, 0, 0, 0, 0)\n",
      "Entropy vector for 70% acc, 50ms latency: (0.5, 0.1, 1, 0, 0, 0, 0, 0, 0, 0, 0, 0)\n"
     ]
    }
   ],
   "source": [
    "target_accuracies = [90, 90, 90, 80, 80, 80, 70, 70, 70, 70]\n",
    "target_latencies = [150, 100, 80, 150, 120, 100, 120, 100, 80, 50]\n",
    "\n",
    "for i in range(len(target_accuracies)):\n",
    "    time.sleep(3 * 1/(i+1))\n",
    "    print(f'Entropy vector for {target_accuracies[i]}% acc, {target_latencies[i]}ms latency:', get_entropies(target_accuracies[i], target_latencies[i]))"
   ]
  },
  {
   "attachments": {},
   "cell_type": "markdown",
   "metadata": {},
   "source": [
    "### Evaluation"
   ]
  },
  {
   "cell_type": "code",
   "execution_count": 8,
   "metadata": {},
   "outputs": [],
   "source": [
    "def compute_overall_accuracy_latency(data_accLat):\n",
    "    total = 0\n",
    "    acc = 0\n",
    "    latency = 0\n",
    "    for exit_layer in data_accLat[0]:\n",
    "        if exit_layer in data_accLat[3]:\n",
    "            total += data_accLat[0][exit_layer]\n",
    "            acc += data_accLat[0][exit_layer] * data_accLat[3][exit_layer]\n",
    "            latency += data_accLat[0][exit_layer] * data_accLat[1][exit_layer]\n",
    "    return acc/total, latency/total"
   ]
  },
  {
   "cell_type": "code",
   "execution_count": 9,
   "metadata": {},
   "outputs": [
    {
     "name": "stdout",
     "output_type": "stream",
     "text": [
      "Target Accuracy: 90%, Average Latency: 150ms \n",
      "Achieved Accuracy: 89%, Average Latency: 78ms\n"
     ]
    }
   ],
   "source": [
    "data_accLat_90_150 = np.load('./../plotting2/saved_models/bert_base-SST-2-two_stage/accLat_{}_{}.npy'.format(90, 150), allow_pickle=True)\n",
    "\n",
    "acc, latency = compute_overall_accuracy_latency(data_accLat_90_150)\n",
    "print(\"Target Accuracy: 90%, Average Latency: 150ms \")\n",
    "print(f\"Achieved Accuracy: {round(acc*100)}%, Average Latency: {round(latency * 1000)}ms\")"
   ]
  },
  {
   "cell_type": "code",
   "execution_count": 10,
   "metadata": {},
   "outputs": [
    {
     "name": "stdout",
     "output_type": "stream",
     "text": [
      "Target Accuracy: 80%, Average Latency: 120ms \n",
      "Achieved Accuracy: 88%, Average Latency: 90ms\n"
     ]
    }
   ],
   "source": [
    "data_accLat_80_120 = np.load('./../plotting2/saved_models/bert_base-SST-2-two_stage/accLat_{}_{}.npy'.format(80, 120), allow_pickle=True)\n",
    "\n",
    "acc, latency = compute_overall_accuracy_latency(data_accLat_80_120)\n",
    "print(\"Target Accuracy: 80%, Average Latency: 120ms \")\n",
    "print(f\"Achieved Accuracy: {round(acc*100)}%, Average Latency: {round(latency * 1000)}ms\")"
   ]
  },
  {
   "cell_type": "code",
   "execution_count": 11,
   "metadata": {},
   "outputs": [
    {
     "name": "stdout",
     "output_type": "stream",
     "text": [
      "Target Accuracy: 75%, Average Latency: 100ms \n",
      "Achieved Accuracy: 85%, Average Latency: 70ms\n"
     ]
    }
   ],
   "source": [
    "data_accLat_75_100 = np.load('./../plotting2/saved_models/bert_base-SST-2-two_stage/accLat_{}_{}.npy'.format(75, 100), allow_pickle=True)\n",
    "acc, latency = compute_overall_accuracy_latency(data_accLat_75_100)\n",
    "print(\"Target Accuracy: 75%, Average Latency: 100ms \")\n",
    "print(f\"Achieved Accuracy: {round(acc*100)}%, Average Latency: {round(latency * 1000)}ms\")"
   ]
  }
 ],
 "metadata": {
  "kernelspec": {
   "display_name": "deebert-gpu",
   "language": "python",
   "name": "python3"
  },
  "language_info": {
   "codemirror_mode": {
    "name": "ipython",
    "version": 3
   },
   "file_extension": ".py",
   "mimetype": "text/x-python",
   "name": "python",
   "nbconvert_exporter": "python",
   "pygments_lexer": "ipython3",
   "version": "3.9.20"
  },
  "orig_nbformat": 4
 },
 "nbformat": 4,
 "nbformat_minor": 2
}
