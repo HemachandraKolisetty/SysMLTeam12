{
 "cells": [
  {
   "cell_type": "code",
   "execution_count": 1,
   "metadata": {},
   "outputs": [],
   "source": [
    "import numpy as  np"
   ]
  },
  {
   "cell_type": "code",
   "execution_count": 2,
   "metadata": {},
   "outputs": [],
   "source": [
    "entropies = [0.0, 0.001, 0.005, 0.01, 0.05, 0.1, 0.15, 0.2, 0.3, 0.4, 0.5, 0.6, 0.7]\n",
    "\n",
    "data_pl = {} # e -> [exit_layer_count, eval_time, actual_cost/full_cost, accuracy]\n",
    "for e in entropies:\n",
    "    data_pl[e] = np.load('./../plotting2/saved_models/bert_base-SST-2-two_stage/entropy_{}.npy'.format(e), allow_pickle=True)"
   ]
  },
  {
   "cell_type": "code",
   "execution_count": 3,
   "metadata": {},
   "outputs": [
    {
     "name": "stdout",
     "output_type": "stream",
     "text": [
      "90 [(21, 1, 0.5), (32, 2, 0.3), (35, 2, 0.2), (48, 3, 0.05), (92, 6, 0.15), (96, 6, 0.2), (99, 6, 0.05), (102, 7, 0.001), (111, 7, 0.15), (111, 7, 0.3), (120, 8, 0.15), (123, 8, 0.1), (128, 8, 0.2), (177, 12, 0.0)]\n",
      "100 [(30, 2, 0.01), (32, 2, 0.001), (35, 2, 0.005), (37, 2, 0.05), (47, 3, 0.005), (47, 3, 0.01), (62, 4, 0.005), (65, 4, 0.05), (72, 4, 0.001), (74, 5, 0.005), (78, 5, 0.1), (79, 5, 0.01), (80, 5, 0.001), (80, 5, 0.05), (99, 6, 0.001), (105, 7, 0.005), (119, 8, 0.6), (128, 9, 0.6), (154, 11, 0.15), (156, 11, 0.3), (158, 11, 0.4), (159, 11, 0.001), (175, 11, 0.1), (219, 12, 0.5)]\n",
      "85 [(16, 1, 0.6), (32, 2, 0.4), (34, 2, 0.5), (47, 3, 0.3), (50, 3, 0.4), (61, 4, 0.15), (64, 4, 0.1), (67, 4, 0.2), (79, 5, 0.3), (87, 5, 0.2), (91, 6, 0.5), (95, 6, 0.4), (95, 6, 0.6), (102, 6, 0.3), (102, 7, 0.4), (113, 7, 0.2), (113, 7, 0.6), (120, 8, 0.4), (122, 8, 0.3), (144, 10, 0.01), (147, 9, 0.05), (157, 11, 0.01), (175, 12, 0.001), (179, 11, 0.05)]\n",
      "95 [(16, 1, 0.4), (31, 2, 0.1), (31, 2, 0.15), (47, 3, 0.1), (49, 3, 0.15), (49, 3, 0.2), (62, 4, 0.01), (77, 5, 0.15), (90, 6, 0.005), (95, 6, 0.1), (96, 6, 0.01), (107, 7, 0.01), (110, 7, 0.05), (111, 7, 0.1), (118, 8, 0.01), (120, 8, 0.001), (120, 8, 0.005), (127, 8, 0.05), (132, 9, 0.005), (133, 9, 0.01), (137, 9, 0.001), (143, 10, 0.001), (144, 10, 0.005)]\n",
      "75 [(34, 2, 0.6), (53, 3, 0.5), (131, 9, 0.4), (149, 10, 0.1), (150, 10, 0.4), (162, 10, 0.2), (170, 12, 0.005)]\n",
      "80 [(17, 1, 0.3), (63, 4, 0.4), (64, 4, 0.3), (105, 7, 0.5), (123, 8, 0.5), (129, 9, 0.5), (135, 9, 0.3), (138, 9, 0.15), (141, 9, 0.1), (147, 10, 0.15), (148, 9, 0.2), (154, 11, 0.005), (159, 10, 0.05), (169, 10, 0.3)]\n",
      "70 [(16, 1, 0.7), (46, 3, 0.6), (77, 5, 0.5), (80, 5, 0.4), (175, 12, 0.01)]\n",
      "65 [(20, 1, 0.2), (62, 4, 0.5), (140, 10, 0.5), (179, 11, 0.2), (189, 12, 0.05)]\n",
      "60 [(60, 4, 0.6), (187, 12, 0.1)]\n"
     ]
    }
   ],
   "source": [
    "acc_buckets = {}\n",
    "# for acc in range(60, 100, 5):\n",
    "#     acc_buckets[acc] = []\n",
    "\n",
    "for e in entropies:\n",
    "    for exit_layer in data_pl[e][3]:\n",
    "        acc = int(data_pl[e][3][exit_layer] * 20) * 5\n",
    "        if acc >= 60:\n",
    "            if acc not in acc_buckets:\n",
    "                acc_buckets[acc] = []\n",
    "            latency = int(data_pl[e][1][exit_layer] * 1000)\n",
    "            acc_buckets[int(acc/5)*5].append((latency, exit_layer, e))\n",
    "\n",
    "for acc in acc_buckets:\n",
    "    print(acc, sorted(acc_buckets[acc]))\n"
   ]
  },
  {
   "cell_type": "code",
   "execution_count": 6,
   "metadata": {},
   "outputs": [
    {
     "name": "stdout",
     "output_type": "stream",
     "text": [
      "for 90% acc, 150ms latency:  [0, 0.4, 0.01, 0.005, 0.005, 0.005, 0.001, 0.005, 0.6, 0.6, 1, 0]\n",
      "for 80% acc, 150ms latency:  [0, 0.4, 0.01, 0.005, 0.005, 0.005, 0.001, 0.005, 0.6, 0.6, 1, 0]\n",
      "for 80% acc, 120ms latency:  [0, 0.4, 0.01, 0.005, 0.005, 0.005, 0.001, 0.005, 1, 0, 0, 0]\n",
      "for 70% acc, 120ms latency:  [0, 0.4, 0.01, 0.005, 0.005, 0.005, 0.001, 0.005, 1, 0, 0, 0]\n",
      "for 70% acc, 100ms latency:  [0, 0.4, 0.01, 0.005, 0.005, 0.005, 1, 0, 0, 0, 0, 0]\n"
     ]
    }
   ],
   "source": [
    "# Accuracy is prioritized. We acheive the highest accuracy possible within the latency budget.\n",
    "def get_entropies(targt_accuracy, target_latency):\n",
    "    entropies = [(0, 0, 10)] * 12 # e, acc, latency\n",
    "    for acc in acc_buckets:\n",
    "        if acc < targt_accuracy:\n",
    "            continue\n",
    "        for latency, exit_layer, e in acc_buckets[acc]:\n",
    "            if latency > target_latency:\n",
    "                continue\n",
    "            if entropies[exit_layer][1] < acc or (entropies[exit_layer][1] == acc and entropies[exit_layer][2] > latency):\n",
    "                entropies[exit_layer] = (e, acc, latency)\n",
    "   \n",
    "    res = []\n",
    "    for e, _, _ in entropies:\n",
    "        res.append(e)\n",
    "    \n",
    "    for i in range(len(res) - 1, 0, -1):\n",
    "        if res[i] != 0:\n",
    "            res[i] = 1\n",
    "            break\n",
    "    return res\n",
    "\n",
    "print(\"for 90% acc, 150ms latency: \", get_entropies(90, 150))\n",
    "print(\"for 80% acc, 150ms latency: \", get_entropies(80, 150))\n",
    "print(\"for 80% acc, 120ms latency: \", get_entropies(80, 120))\n",
    "print(\"for 70% acc, 120ms latency: \", get_entropies(70, 120))\n",
    "print(\"for 70% acc, 100ms latency: \", get_entropies(70, 100))\n",
    "            \n",
    "            "
   ]
  }
 ],
 "metadata": {
  "kernelspec": {
   "display_name": "sysml_proj",
   "language": "python",
   "name": "python3"
  },
  "language_info": {
   "codemirror_mode": {
    "name": "ipython",
    "version": 3
   },
   "file_extension": ".py",
   "mimetype": "text/x-python",
   "name": "python",
   "nbconvert_exporter": "python",
   "pygments_lexer": "ipython3",
   "version": "3.7.12"
  }
 },
 "nbformat": 4,
 "nbformat_minor": 2
}
