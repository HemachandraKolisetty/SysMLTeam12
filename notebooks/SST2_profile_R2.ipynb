{
 "cells": [
  {
   "cell_type": "code",
   "execution_count": 1,
   "metadata": {},
   "outputs": [],
   "source": [
    "import numpy as  np\n",
    "import math\n",
    "import matplotlib.pyplot as plt"
   ]
  },
  {
   "attachments": {},
   "cell_type": "markdown",
   "metadata": {},
   "source": [
    "# Second round of profiling\n",
    "Once we get the profiles per layer when entropy threshold is kept constant, do a second round of profiling for accuracte estimates of the tradeoff space"
   ]
  },
  {
   "cell_type": "code",
   "execution_count": 2,
   "metadata": {},
   "outputs": [],
   "source": [
    "entropies = [0.0, 0.001, 0.005, 0.01, 0.05, 0.1, 0.15, 0.2, 0.3, 0.4, 0.5, 0.6, 0.7]\n",
    "\n",
    "data_pl = {} # e -> [exit_layer_count, eval_times, actual_cost/full_cost, accuracy_per_layer]\n",
    "for e in entropies:\n",
    "    data_pl[e] = np.load('./../plotting2/saved_models/bert_base-SST-2-two_stage/entropy_{}.npy'.format(e), allow_pickle=True)"
   ]
  },
  {
   "cell_type": "code",
   "execution_count": 5,
   "metadata": {},
   "outputs": [
    {
     "name": "stdout",
     "output_type": "stream",
     "text": [
      "13\n"
     ]
    }
   ],
   "source": [
    "print(len(data_pl))"
   ]
  },
  {
   "cell_type": "code",
   "execution_count": 3,
   "metadata": {},
   "outputs": [
    {
     "name": "stdout",
     "output_type": "stream",
     "text": [
      "90 [(21, 1, 0.5, 107), (32, 2, 0.3, 299), (35, 2, 0.2, 200), (48, 3, 0.05, 54), (92, 6, 0.15, 102), (96, 6, 0.2, 96), (99, 6, 0.05, 89), (102, 7, 0.001, 13), (111, 7, 0.15, 114), (111, 7, 0.3, 89), (120, 8, 0.15, 104), (123, 8, 0.1, 138), (128, 8, 0.2, 82), (177, 12, 0.0, 872)]\n",
      "100 [(30, 2, 0.01, 8), (32, 2, 0.001, 2), (35, 2, 0.005, 2), (37, 2, 0.05, 54), (47, 3, 0.005, 9), (47, 3, 0.01, 15), (62, 4, 0.005, 23), (65, 4, 0.05, 60), (72, 4, 0.001, 3), (74, 5, 0.005, 9), (78, 5, 0.1, 33), (79, 5, 0.01, 12), (80, 5, 0.001, 7), (80, 5, 0.05, 23), (99, 6, 0.001, 32), (105, 7, 0.005, 46), (119, 8, 0.6, 5), (128, 9, 0.6, 2), (154, 11, 0.15, 2), (156, 11, 0.3, 2), (158, 11, 0.4, 1), (159, 11, 0.001, 15), (175, 11, 0.1, 8), (219, 12, 0.5, 1)]\n",
      "85 [(16, 1, 0.6, 271), (32, 2, 0.4, 385), (34, 2, 0.5, 421), (47, 3, 0.3, 111), (50, 3, 0.4, 98), (61, 4, 0.15, 90), (64, 4, 0.1, 69), (67, 4, 0.2, 91), (79, 5, 0.3, 50), (87, 5, 0.2, 44), (91, 6, 0.5, 51), (95, 6, 0.4, 58), (95, 6, 0.6, 22), (102, 6, 0.3, 80), (102, 7, 0.4, 69), (113, 7, 0.2, 114), (113, 7, 0.6, 17), (120, 8, 0.4, 39), (122, 8, 0.3, 60), (144, 10, 0.01, 54), (147, 9, 0.05, 170), (157, 11, 0.01, 33), (175, 12, 0.001, 456), (179, 11, 0.05, 9)]\n",
      "95 [(16, 1, 0.4, 40), (31, 2, 0.1, 109), (31, 2, 0.15, 157), (47, 3, 0.1, 75), (49, 3, 0.15, 86), (49, 3, 0.2, 97), (62, 4, 0.01, 32), (77, 5, 0.15, 39), (90, 6, 0.005, 60), (95, 6, 0.1, 102), (96, 6, 0.01, 71), (107, 7, 0.01, 75), (110, 7, 0.05, 108), (111, 7, 0.1, 118), (118, 8, 0.01, 187), (120, 8, 0.001, 151), (120, 8, 0.005, 185), (127, 8, 0.05, 164), (132, 9, 0.005, 212), (133, 9, 0.01, 201), (137, 9, 0.001, 156), (143, 10, 0.001, 37), (144, 10, 0.005, 66)]\n",
      "75 [(34, 2, 0.6, 385), (53, 3, 0.5, 103), (131, 9, 0.4, 40), (149, 10, 0.1, 40), (150, 10, 0.4, 9), (162, 10, 0.2, 18), (170, 12, 0.005, 236)]\n",
      "80 [(17, 1, 0.3, 6), (63, 4, 0.4, 84), (64, 4, 0.3, 87), (105, 7, 0.5, 50), (123, 8, 0.5, 25), (129, 9, 0.5, 15), (135, 9, 0.3, 62), (138, 9, 0.15, 108), (141, 9, 0.1, 122), (147, 10, 0.15, 28), (148, 9, 0.2, 92), (154, 11, 0.005, 24), (159, 10, 0.05, 45), (169, 10, 0.3, 10)]\n",
      "70 [(16, 1, 0.7, 872), (46, 3, 0.6, 87), (77, 5, 0.5, 30), (80, 5, 0.4, 41), (175, 12, 0.01, 184)]\n",
      "65 [(20, 1, 0.2, 3), (62, 4, 0.5, 63), (140, 10, 0.5, 6), (179, 11, 0.2, 3), (189, 12, 0.05, 96)]\n",
      "60 [(60, 4, 0.6, 60), (187, 12, 0.1, 58)]\n",
      "55 [(182, 12, 0.15, 42), (186, 12, 0.2, 32)]\n"
     ]
    }
   ],
   "source": [
    "acc_buckets = {}\n",
    "# for acc in range(55, 100, 5):\n",
    "#     acc_buckets[acc] = []\n",
    "\n",
    "for e in entropies:\n",
    "    for exit_layer in data_pl[e][3]:\n",
    "        acc = int(data_pl[e][3][exit_layer] * 20) * 5\n",
    "        if acc >= 55:\n",
    "            if acc not in acc_buckets:\n",
    "                acc_buckets[acc] = []\n",
    "            latency = int(data_pl[e][1][exit_layer] * 1000)\n",
    "            exit_layer_count = data_pl[e][0][exit_layer]\n",
    "            acc_buckets[int(acc/5)*5].append((latency, exit_layer, e, exit_layer_count))\n",
    "\n",
    "for acc in acc_buckets:\n",
    "    print(acc, sorted(acc_buckets[acc]))"
   ]
  },
  {
   "cell_type": "code",
   "execution_count": 5,
   "metadata": {},
   "outputs": [],
   "source": [
    "# Accuracy is prioritized. We acheive the highest accuracy possible within the latency budget.\n",
    "def get_entropies(acc_buckets, targt_accuracy, target_latency, n_layers):\n",
    "    entropies = [(0, 0, 250)] * n_layers # e, acc, latency\n",
    "    for acc in acc_buckets:\n",
    "        if acc < targt_accuracy:\n",
    "            continue\n",
    "        for latency, exit_layer, e, _ in acc_buckets[acc]:\n",
    "            if latency > target_latency:\n",
    "                continue\n",
    "            if entropies[exit_layer - 1][1] < acc or (entropies[exit_layer - 1][1] == acc and entropies[exit_layer - 1][2] > latency):\n",
    "                entropies[exit_layer - 1] = (e, acc, latency)\n",
    "   \n",
    "    res = []\n",
    "    for e, _, _ in entropies:\n",
    "        res.append(e)\n",
    "    \n",
    "    for i in range(len(res) - 1, 0, -1):\n",
    "        if res[i] != 0:\n",
    "            res[i] = 1\n",
    "            break\n",
    "    return tuple(res)"
   ]
  },
  {
   "cell_type": "code",
   "execution_count": 32,
   "metadata": {},
   "outputs": [
    {
     "name": "stdout",
     "output_type": "stream",
     "text": [
      "(0.4, 0.01, 1, 0, 0, 0, 0, 0, 0, 0, 0, 0)\n"
     ]
    }
   ],
   "source": [
    "print(get_entropies(acc_buckets, 91, 50, 12))"
   ]
  },
  {
   "cell_type": "code",
   "execution_count": 6,
   "metadata": {},
   "outputs": [],
   "source": [
    "def get_entropies_list(acc_buckets, n_layers):\n",
    "    entropies_list = set()\n",
    "    for latency in np.arange(10, 220):\n",
    "        for accuracy in np.arange(100, 54, -1):\n",
    "            entropies = (0,) * n_layers\n",
    "            estimates = get_entropies(acc_buckets, accuracy, latency, n_layers)\n",
    "            if entropies == estimates or estimates in entropies_list:\n",
    "                continue\n",
    "            entropies = estimates\n",
    "            entropies_list.add(entropies)\n",
    "    return list(entropies_list)"
   ]
  },
  {
   "cell_type": "code",
   "execution_count": 7,
   "metadata": {},
   "outputs": [],
   "source": [
    "entropies_list = get_entropies_list(acc_buckets, 12)"
   ]
  },
  {
   "cell_type": "code",
   "execution_count": 36,
   "metadata": {},
   "outputs": [
    {
     "name": "stdout",
     "output_type": "stream",
     "text": [
      "[(0.4, 0.01, 0.005, 0.005, 1, 0, 0, 0, 0, 0, 0, 0), (0, 0.01, 0.005, 0.005, 0.005, 0.001, 0.005, 0.6, 1, 0, 0, 0), (0, 0.01, 0.005, 0.005, 0.005, 1, 0, 0, 0, 0, 0, 0), (0.4, 0, 0, 0, 0, 0, 0, 0, 0, 0, 0, 0), (0, 1, 0, 0, 0, 0, 0, 0, 0, 0, 0, 0), (0, 0.01, 0.005, 0.005, 0.005, 0.001, 1, 0, 0, 0, 0, 0), (0, 0.01, 0.005, 0.005, 1, 0, 0, 0, 0, 0, 0, 0), (0.4, 0.01, 0.005, 0.005, 0.005, 0.001, 0.005, 1, 0, 0, 0, 0), (0.4, 0.01, 0.005, 1, 0, 0, 0, 0, 0, 0, 0, 0), (0.4, 0.01, 0.005, 0.005, 0.005, 0.001, 1, 0, 0, 0, 0, 0), (0.4, 0.01, 0.005, 0.005, 0.005, 0.001, 0.005, 0.6, 0.6, 0.001, 1, 0), (0.4, 0.01, 0.005, 0.005, 0.005, 1, 0, 0, 0, 0, 0, 0), (0.4, 0.01, 0.005, 0.005, 0.005, 0.001, 0.005, 0.6, 0.6, 0.001, 0.15, 1), (0, 0.01, 1, 0, 0, 0, 0, 0, 0, 0, 0, 0), (0, 0.01, 0.005, 0.005, 0.005, 0.001, 0.005, 0.6, 0.6, 0, 1, 0), (0, 0.01, 0.005, 1, 0, 0, 0, 0, 0, 0, 0, 0), (0.4, 0.01, 0.005, 0.005, 0.005, 0.001, 0.005, 0.6, 1, 0, 0, 0), (0, 0.01, 0.005, 0.005, 0.005, 0.001, 0.005, 1, 0, 0, 0, 0), (0.4, 0.01, 0.005, 0.005, 0.005, 0.001, 0.005, 0.6, 0.6, 1, 0, 0), (0.4, 1, 0, 0, 0, 0, 0, 0, 0, 0, 0, 0), (0, 0.01, 0.005, 0.005, 0.005, 0.001, 0.005, 0.6, 0.6, 0, 0.15, 1), (0.4, 0.01, 1, 0, 0, 0, 0, 0, 0, 0, 0, 0)]\n",
      "0.4,0.01,0.005,0.005,1,0,0,0,0,0,0,0 0,0.01,0.005,0.005,0.005,0.001,0.005,0.6,1,0,0,0 0,0.01,0.005,0.005,0.005,1,0,0,0,0,0,0 0.4,0,0,0,0,0,0,0,0,0,0,0 0,1,0,0,0,0,0,0,0,0,0,0 0,0.01,0.005,0.005,0.005,0.001,1,0,0,0,0,0 0,0.01,0.005,0.005,1,0,0,0,0,0,0,0 0.4,0.01,0.005,0.005,0.005,0.001,0.005,1,0,0,0,0 0.4,0.01,0.005,1,0,0,0,0,0,0,0,0 0.4,0.01,0.005,0.005,0.005,0.001,1,0,0,0,0,0 0.4,0.01,0.005,0.005,0.005,0.001,0.005,0.6,0.6,0.001,1,0 0.4,0.01,0.005,0.005,0.005,1,0,0,0,0,0,0 0.4,0.01,0.005,0.005,0.005,0.001,0.005,0.6,0.6,0.001,0.15,1 0,0.01,1,0,0,0,0,0,0,0,0,0 0,0.01,0.005,0.005,0.005,0.001,0.005,0.6,0.6,0,1,0 0,0.01,0.005,1,0,0,0,0,0,0,0,0 0.4,0.01,0.005,0.005,0.005,0.001,0.005,0.6,1,0,0,0 0,0.01,0.005,0.005,0.005,0.001,0.005,1,0,0,0,0 0.4,0.01,0.005,0.005,0.005,0.001,0.005,0.6,0.6,1,0,0 0.4,1,0,0,0,0,0,0,0,0,0,0 0,0.01,0.005,0.005,0.005,0.001,0.005,0.6,0.6,0,0.15,1 0.4,0.01,1,0,0,0,0,0,0,0,0,0 \n"
     ]
    }
   ],
   "source": [
    "print(entropies_list)\n",
    "es = \"\"\n",
    "for v in entropies_list:\n",
    "    cs = \"\"\n",
    "    for x in v:\n",
    "        cs += str(x) + \",\"\n",
    "    es += cs[:-1] + \" \"\n",
    "print(es)"
   ]
  },
  {
   "cell_type": "code",
   "execution_count": 8,
   "metadata": {},
   "outputs": [],
   "source": [
    "data_entropy = np.load('./../plotting2/saved_models/bert_base-SST-2-two_stage/accLat_1_0.0.npy'.format(e), allow_pickle=True)"
   ]
  },
  {
   "cell_type": "code",
   "execution_count": 16,
   "metadata": {},
   "outputs": [
    {
     "name": "stdout",
     "output_type": "stream",
     "text": [
      "[{1: 40, 2: 3, 3: 6, 4: 15, 5: 808, 6: 0, 7: 0, 8: 0, 9: 0, 10: 0, 11: 0, 12: 0}\n",
      " {1: 0.002127718925476074, 2: 0.003466924031575521, 3: 0.004784584045410156, 4: 0.012199195226033528, 5: 0.00744202733039856, 6: 0, 7: 0, 8: 0, 9: 0, 10: 0, 11: 0, 12: 0}\n",
      " 0.39793577981651373\n",
      " {4: np.float64(1.0), 1: np.float64(0.95), 5: np.float64(0.7821782178217822), 3: np.float64(1.0), 2: np.float64(1.0)}]\n"
     ]
    }
   ],
   "source": [
    "print(data_entropy[0:4])"
   ]
  },
  {
   "cell_type": "code",
   "execution_count": 18,
   "metadata": {},
   "outputs": [
    {
     "name": "stdout",
     "output_type": "stream",
     "text": [
      "{(80, 7, 12): (0.4, 0.01, 0.005, 0.005, 1, 0, 0, 0, 0, 0, 0, 0), (89, 9, 10): (0, 0.01, 0.005, 0.005, 0.005, 0.001, 0.005, 0.6, 1, 0, 0, 0), (84, 7, 14): (0, 0.01, 0.005, 0.005, 0.005, 1, 0, 0, 0, 0, 0, 0), (92, 13, 14): (0.4, 0, 0, 0, 0, 0, 0, 0, 0, 0, 0, 0), (78, 3, 3): (0.4, 1, 0, 0, 0, 0, 0, 0, 0, 0, 0, 0), (86, 8, 9): (0, 0.01, 0.005, 0.005, 0.005, 0.001, 1, 0, 0, 0, 0, 0), (80, 7, 10): (0, 0.01, 0.005, 0.005, 1, 0, 0, 0, 0, 0, 0, 0), (88, 8, 11): (0.4, 0.01, 0.005, 0.005, 0.005, 0.001, 0.005, 1, 0, 0, 0, 0), (79, 5, 5): (0, 0.01, 0.005, 1, 0, 0, 0, 0, 0, 0, 0, 0), (86, 10, 12): (0.4, 0.01, 0.005, 0.005, 0.005, 0.001, 1, 0, 0, 0, 0, 0), (89, 9, 13): (0, 0.01, 0.005, 0.005, 0.005, 0.001, 0.005, 0.6, 0.6, 0, 0.15, 1), (84, 7, 11): (0.4, 0.01, 0.005, 0.005, 0.005, 1, 0, 0, 0, 0, 0, 0), (79, 4, 4): (0, 0.01, 1, 0, 0, 0, 0, 0, 0, 0, 0, 0), (89, 11, 15): (0.4, 0.01, 0.005, 0.005, 0.005, 0.001, 0.005, 0.6, 0.6, 1, 0, 0), (89, 8, 11): (0.4, 0.01, 0.005, 0.005, 0.005, 0.001, 0.005, 0.6, 1, 0, 0, 0), (88, 11, 12): (0, 0.01, 0.005, 0.005, 0.005, 0.001, 0.005, 1, 0, 0, 0, 0), (78, 4, 4): (0.4, 0.01, 1, 0, 0, 0, 0, 0, 0, 0, 0, 0)}\n"
     ]
    }
   ],
   "source": [
    "trade_off_space = {}\n",
    "for i in range(len(entropies_list)):\n",
    "    accuracy = 0\n",
    "    latency = 0\n",
    "    max_latency = 0\n",
    "    count = 0\n",
    "    for layer in range(1, 13):\n",
    "        if layer in data_entropy[4*i+3]:\n",
    "            accuracy += data_entropy[4*i][layer] * data_entropy[4*i+3][layer]\n",
    "            latency += data_entropy[4*i][layer] * data_entropy[4*i+1][layer]\n",
    "            max_latency = max(max_latency, data_entropy[4*i+1][layer])\n",
    "            count += data_entropy[4*i][layer]\n",
    "    accuracy /= count\n",
    "    latency /= count\n",
    "    accuracy = round(accuracy * 100)\n",
    "    latency = round(latency * 1000)\n",
    "    max_latency = round(max_latency * 1000)\n",
    "    trade_off_space[(accuracy, latency, max_latency)] = entropies_list[i]"
   ]
  },
  {
   "cell_type": "code",
   "execution_count": 24,
   "metadata": {},
   "outputs": [
    {
     "name": "stdout",
     "output_type": "stream",
     "text": [
      "(80, 7, 12): (0.4, 0.01, 0.005, 0.005, 1, 0, 0, 0, 0, 0, 0, 0)\n",
      "(89, 9, 10): (0, 0.01, 0.005, 0.005, 0.005, 0.001, 0.005, 0.6, 1, 0, 0, 0)\n",
      "(84, 7, 14): (0, 0.01, 0.005, 0.005, 0.005, 1, 0, 0, 0, 0, 0, 0)\n",
      "(92, 13, 14): (0.4, 0, 0, 0, 0, 0, 0, 0, 0, 0, 0, 0)\n",
      "(78, 3, 3): (0.4, 1, 0, 0, 0, 0, 0, 0, 0, 0, 0, 0)\n",
      "(86, 8, 9): (0, 0.01, 0.005, 0.005, 0.005, 0.001, 1, 0, 0, 0, 0, 0)\n",
      "(80, 7, 10): (0, 0.01, 0.005, 0.005, 1, 0, 0, 0, 0, 0, 0, 0)\n",
      "(88, 8, 11): (0.4, 0.01, 0.005, 0.005, 0.005, 0.001, 0.005, 1, 0, 0, 0, 0)\n",
      "(79, 5, 5): (0, 0.01, 0.005, 1, 0, 0, 0, 0, 0, 0, 0, 0)\n",
      "(86, 10, 12): (0.4, 0.01, 0.005, 0.005, 0.005, 0.001, 1, 0, 0, 0, 0, 0)\n",
      "(89, 9, 13): (0, 0.01, 0.005, 0.005, 0.005, 0.001, 0.005, 0.6, 0.6, 0, 0.15, 1)\n",
      "(84, 7, 11): (0.4, 0.01, 0.005, 0.005, 0.005, 1, 0, 0, 0, 0, 0, 0)\n",
      "(79, 4, 4): (0, 0.01, 1, 0, 0, 0, 0, 0, 0, 0, 0, 0)\n",
      "(89, 11, 15): (0.4, 0.01, 0.005, 0.005, 0.005, 0.001, 0.005, 0.6, 0.6, 1, 0, 0)\n",
      "(89, 8, 11): (0.4, 0.01, 0.005, 0.005, 0.005, 0.001, 0.005, 0.6, 1, 0, 0, 0)\n",
      "(88, 11, 12): (0, 0.01, 0.005, 0.005, 0.005, 0.001, 0.005, 1, 0, 0, 0, 0)\n",
      "(78, 4, 4): (0.4, 0.01, 1, 0, 0, 0, 0, 0, 0, 0, 0, 0)\n"
     ]
    }
   ],
   "source": [
    "accuracies = []\n",
    "latencies = []\n",
    "tail_latencies = []\n",
    "for accuracy, latency, max_latency in trade_off_space:\n",
    "    print(f'({accuracy}, {latency}, {max_latency}): {trade_off_space[(accuracy, latency, max_latency)]}')\n",
    "    accuracies.append(accuracy)\n",
    "    latencies.append(latency)\n",
    "    tail_latencies.append(max_latency)"
   ]
  },
  {
   "cell_type": "code",
   "execution_count": 28,
   "metadata": {},
   "outputs": [
    {
     "data": {
      "text/plain": [
       "<Figure size 1000x600 with 0 Axes>"
      ]
     },
     "metadata": {},
     "output_type": "display_data"
    },
    {
     "data": {
      "image/png": "[encoded data removed]",
      "text/plain": [
       "<Figure size 640x480 with 1 Axes>"
      ]
     },
     "metadata": {},
     "output_type": "display_data"
    }
   ],
   "source": [
    "min_latency = np.min(latencies)\n",
    "max_latency = np.max(latencies)\n",
    "latencies = (10 * (latencies - min_latency) / (max_latency - min_latency))\n",
    "\n",
    "data = list(zip(latencies, accuracies))\n",
    "sorted_data = sorted(data, key=lambda x: x[0])\n",
    "sorted_latencies, sorted_accuracies = zip(*sorted_data)\n",
    "\n",
    "plt.figure(figsize=(10, 6))\n",
    "fig, ax = plt.subplots()\n",
    "ax.plot(sorted_latencies, sorted_accuracies, marker='o', linestyle='-', color='b')\n",
    "ax.set_xlabel('Latency (ms)')\n",
    "ax.set_ylabel('Accuracy')\n",
    "ax.set_title('Trade-off space')\n",
    "plt.show()"
   ]
  },
  {
   "cell_type": "code",
   "execution_count": 25,
   "metadata": {},
   "outputs": [
    {
     "data": {
      "text/plain": [
       "<Figure size 1000x600 with 0 Axes>"
      ]
     },
     "metadata": {},
     "output_type": "display_data"
    },
    {
     "data": {
      "image/png": "[encoded data removed]",
      "text/plain": [
       "<Figure size 640x480 with 1 Axes>"
      ]
     },
     "metadata": {},
     "output_type": "display_data"
    }
   ],
   "source": [
    "data = list(zip(tail_latencies, accuracies))\n",
    "sorted_data = sorted(data, key=lambda x: x[0])\n",
    "sorted_latencies, sorted_accuracies = zip(*sorted_data)\n",
    "\n",
    "plt.figure(figsize=(10, 6))\n",
    "fig, ax = plt.subplots()\n",
    "ax.plot(sorted_latencies, sorted_accuracies, marker='o', linestyle='-', color='b')\n",
    "ax.set_xlabel('Latency (ms)')\n",
    "ax.set_ylabel('Accuracy')\n",
    "ax.set_title('Trade-off space')\n",
    "plt.show()"
   ]
  },
  {
   "cell_type": "code",
   "execution_count": 23,
   "metadata": {},
   "outputs": [
    {
     "name": "stdout",
     "output_type": "stream",
     "text": [
      "(78, 79, 78, 79, 80, 84, 80, 84, 86, 88, 89, 89, 89, 86, 89, 88, 92)\n",
      "(3, 4, 4, 5, 7, 7, 7, 7, 8, 8, 8, 9, 9, 10, 11, 11, 13)\n"
     ]
    }
   ],
   "source": [
    "print(sorted_accuracies)\n",
    "print(sorted_latencies)"
   ]
  },
  {
   "cell_type": "code",
   "execution_count": 10,
   "metadata": {},
   "outputs": [],
   "source": [
    "temp_Data = np.load('./../plotting2_profile/saved_models/bert_base-SST-2-two_stage/entropy_0.0.npy'.format(e), allow_pickle=True)"
   ]
  },
  {
   "cell_type": "code",
   "execution_count": 15,
   "metadata": {},
   "outputs": [
    {
     "data": {
      "text/plain": [
       "array([{1: 0, 2: 0, 3: 0, 4: 0, 5: 0, 6: 0, 7: 0, 8: 0, 9: 0, 10: 0, 11: 0, 12: 872},\n",
       "       {1: 0, 2: 0, 3: 0, 4: 0, 5: 0, 6: 0, 7: 0, 8: 0, 9: 0, 10: 0, 11: 0, 12: 0.013488743830164638},\n",
       "       1.0, {12: np.float64(0.2717889908256881)}], dtype=object)"
      ]
     },
     "execution_count": 15,
     "metadata": {},
     "output_type": "execute_result"
    }
   ],
   "source": [
    "temp_Data[44:]"
   ]
  }
 ],
 "metadata": {
  "kernelspec": {
   "display_name": "deebert-gpu",
   "language": "python",
   "name": "python3"
  },
  "language_info": {
   "codemirror_mode": {
    "name": "ipython",
    "version": 3
   },
   "file_extension": ".py",
   "mimetype": "text/x-python",
   "name": "python",
   "nbconvert_exporter": "python",
   "pygments_lexer": "ipython3",
   "version": "3.9.20"
  },
  "orig_nbformat": 4
 },
 "nbformat": 4,
 "nbformat_minor": 2
}
